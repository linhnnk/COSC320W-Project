{
 "cells": [
  {
   "cell_type": "code",
   "execution_count": 6,
   "id": "3ae4e4c6-4074-4e7f-8c72-bfb0462b60e5",
   "metadata": {},
   "outputs": [],
   "source": [
    "%matplotlib inline\n",
    "import pandas as pd\n",
    "import numpy as np\n",
    "import matplotlib.pyplot as plt\n",
    "import seaborn as sns\n",
    "import matplotlib.pyplot as plt\n",
    "import matplotlib\n",
    "from matplotlib.pyplot import figure"
   ]
  },
  {
   "cell_type": "code",
   "execution_count": 10,
   "id": "d829033e-75c1-4ed1-909d-0a459c18c74c",
   "metadata": {},
   "outputs": [],
   "source": [
    "def loadTweet():\n",
    "    twt = pd.read_csv(\"merged_csv_dataset_forTweet.csv\")\n",
    "    return twt\n",
    "tweet = loadTweet()"
   ]
  },
  {
   "cell_type": "code",
   "execution_count": 25,
   "id": "09482676-bfb6-4235-8c28-fab253c5ccfc",
   "metadata": {},
   "outputs": [
    {
     "name": "stdout",
     "output_type": "stream",
     "text": [
      "    Abbreviations                       Text\n",
      "0             lol                   laughing\n",
      "1            rofl                   laughing\n",
      "2             brb              be right back\n",
      "3             ily                 i love you\n",
      "4              ty                  thank you\n",
      "..            ...                        ...\n",
      "291           AYV          Are you vertical?\n",
      "292           AYW                As you were\n",
      "293           AYW  As you want / As you wish\n",
      "294           AZN                      Asian\n",
      "295           yrs                      years\n",
      "\n",
      "[296 rows x 2 columns]\n"
     ]
    }
   ],
   "source": [
    "def loadSlang():\n",
    "    slang = pd.read_csv(\"slang_database.csv\")\n",
    "    return slang\n",
    "slang = loadSlang()\n",
    "print(slang)"
   ]
  },
  {
   "cell_type": "code",
   "execution_count": 26,
   "id": "6d935051-197c-4b98-ab0f-373ea6ddc09c",
   "metadata": {},
   "outputs": [],
   "source": [
    "data_dict = slang.set_index('Abbreviations')['Text'].to_dict()"
   ]
  },
  {
   "cell_type": "code",
   "execution_count": 27,
   "id": "a6feb14f-2038-4fb3-9a0a-d39ff27b44a7",
   "metadata": {},
   "outputs": [],
   "source": [
    "def implementation(tweet):\n",
    "    match = 0\n",
    "    tweet.lower()\n",
    "    words = tweet.split()\n",
    "    tweetFinal = \"\"\n",
    "    iterator = 0\n",
    "    for i in words:\n",
    "        \n",
    "        # Has a period\n",
    "        if(i[len(i)-1] == '.'):   \n",
    "            i = i[0:(len(i)-1)]\n",
    "            if(data_dict.get(i) != None):\n",
    "                words[iterator] = (data_dict.get(i) + \".\")\n",
    "            \n",
    "        #Does not have a period\n",
    "        elif(data_dict.get(i) != None):\n",
    "            words[iterator] = data_dict.get(i)\n",
    "        tweetFinal += (words[iterator] + \" \")\n",
    "        iterator+=1\n",
    "        \n",
    "    return tweetFinal"
   ]
  },
  {
   "cell_type": "markdown",
   "id": "2bde9277-9ad2-4288-855f-1e7a92af374a",
   "metadata": {},
   "source": [
    "# Test cases"
   ]
  },
  {
   "cell_type": "code",
   "execution_count": 28,
   "id": "c8bd3e46-f414-4355-9a26-10a6d434fe04",
   "metadata": {},
   "outputs": [
    {
     "name": "stdout",
     "output_type": "stream",
     "text": [
      "laughing dw, I will direct message you. \n"
     ]
    }
   ],
   "source": [
    "# example of 1 sentence\n",
    "oneExample = \"lol dw, I will dm you.\"\n",
    "print(implementation(oneExample))"
   ]
  },
  {
   "cell_type": "code",
   "execution_count": 29,
   "id": "acbcd766-1083-4741-971d-cafabe8ffdf5",
   "metadata": {},
   "outputs": [
    {
     "name": "stdout",
     "output_type": "stream",
     "text": [
      "                                             Love it!\n",
      "0   So awesome. Read my morning meditation anytime...\n",
      "1   Just replaced one add with another, albeit AA ...\n",
      "2   Don't bother upgrading. There is zero differen...\n",
      "3   Every time I go to share the reading it pops u...\n",
      "4                                    Good, simple app\n",
      "5   This is a great app has too many commercials b...\n",
      "6   Paid for the \"Pro\" and it still doesn't displa...\n",
      "7   App works as intended. Sobriety date set and s...\n",
      "8   Thank you I was able to get the pro. Daily ref...\n",
      "9   I have Loved the Daily Reflection for over 20y...\n",
      "10  All works great for me on my tablet. Had to fi...\n",
      "11  Got the Pro edition hoping it would be an impr...\n",
      "12  Fantastic positive daily excerpts from the boo...\n",
      "13  I love this app, but my sobriety date and time...\n",
      "14  Excellent for the recovering addict to b remin...\n",
      "15  extremely handy to have all my morning reading...\n",
      "16                                           awesome?\n",
      "17                                            perfect\n",
      "18  The daily notification displays the WRONG dail...\n",
      "19  calculate number of days of sobriety I cannot ...\n",
      "20  When I select past dates it displays the wrong...\n",
      "21  I use this app everyday. I love ebooks rather ...\n",
      "22  Won't show my sober time; even after checking ...\n"
     ]
    }
   ],
   "source": [
    "smallExample = pd.read_csv(\"small_dataset_example.csv\")\n",
    "print(smallExample)"
   ]
  },
  {
   "cell_type": "code",
   "execution_count": 30,
   "id": "2e924624-be1e-4eb4-ab3a-da4fc3dcd3a1",
   "metadata": {},
   "outputs": [
    {
     "name": "stdout",
     "output_type": "stream",
     "text": [
      "Love it! 0 So awesome. Read my morning meditation anytime I want. Great app im glad i purchased upgraded so no commercials or advertisements. 1 Just replaced one add with another, albeit Ask about related. Couldn't get sobriety date to show. Dislike notifications not being dismissable. Refunded until fixed. Meaning \"to\" in SMS Don't bother upgrading. There is zero difference between free and paid. I still get ads every time I open to the meditation passage. It says you can do things like track sobriety date-doesn't. There is no \"contact us\" info. But they seemed to gladly take my money. 3 Every time I go to share the reading it pops up with no reading. Can you please make it so we can copy and paste it. Short for \"for\" in SMS Good, simple app 5 This is a great app has too many commercials but for someone like me it just teaches me strength. Absolutely great app recommend to everyone in Ask about 6 Paid for the \"Pro\" and it still doesn't display sobriety time. Doean't even ask for my sobriety date anywhere. But the daily reflections part of the app is fine. 7 App works as intended. Sobriety date set and sticks, transparency no issues, reminders no issues. Pro version in tow to support app development. Thanks for this! 8 Thank you I was able to get the pro. Daily reflection is my most favorite mediation book. Parent is watching (social media) I have Loved the Daily Reflection for over 20yrs, this app is ok, but it DOESN'T allow me to enter my date. 10 All works great for me on my tablet. Had to figure out how to input my sobriety date, otherwise flawless so far! 11 Got the Pro edition hoping it would be an improvement of the free app. It wasn't. If you start reading the intro paragraph in the notification and click on it to continue reading, you're brought to something completely different. The sobriety date doesn't show, nor was there an option that I could find to set my sobriety date. Notifications were inconsistent- I would get Short for \"for\" in SMS one day and nothing for Short for \"for\" in SMS days. REALLY love the simplicity of this app, IF it worked. I refunded. 12 Fantastic positive daily excerpts from the books that keep us from our addiction one day at a time. 13 I love this app, but my sobriety date and time are cut off, so i cant see them. 😣 i have paid for the pro version, i hoped it would solve this problem, but it hasnt. I have tried adjustin the font sizes to no avail. 14 Excellent for the recovering addict to b reminded. Purchased to support development. 15 extremely handy to have all my morning readings on my phone 16 awesome? 17 perfect 18 The daily notification displays the WRONG daily reflection. The sobriety date text is cut off so you only see the top half of each character. This seems like it should be an easy fix. PLEASE FIX IT AND PUSH OT AN UPDATE. Zero hand (cribbage) calculate number of days of sobriety I cannot ge us to do this Meaning \"location\" (trucking lingo) When I select past dates it displays the wrong date. example: I select February 10th on the calendar to view past readings and it displays different dates throughout February each time. Annoying. It would be cool if you'd deliver a less buggy version for people that pay for the app. thanks. 21 I use this app everyday. I love ebooks rather than paper ones. I paid the money to get rid of that annoying ad. i was happy for a minute. From my perspective, this is a very simple app. And since i have now paid money for it, it would be great to see certain things. It would be awesome if the share feature worked everytime. Another feature that would greatly improve this app would be thw ability to get definitions for words when I highlight them. Which brings me to my last suggestion, highlightin 22 Won't show my sober time; even after checking and unchecking it in the \\nsettings. Also uninstalled and reinstalled to see if that might help. Still \\nno display of sobriety time.... \n"
     ]
    }
   ],
   "source": [
    "#example of small dataset\n",
    "print(implementation(smallExample.to_string()))"
   ]
  },
  {
   "cell_type": "markdown",
   "id": "0fee6987-f9a9-415f-ad63-bf024753844a",
   "metadata": {},
   "source": [
    "# Time complexity for plot"
   ]
  },
  {
   "cell_type": "code",
   "execution_count": 31,
   "id": "5bcaf96e-3d5f-456d-a9b4-fce575573110",
   "metadata": {},
   "outputs": [],
   "source": [
    "from tryItABunch import tryItABunch\n",
    "nValuesNaive, tValuesNaive = tryItABunch(implementation, startN = 148, endN = 25000, stepSize=74, numTrials=5)"
   ]
  },
  {
   "cell_type": "code",
   "execution_count": 32,
   "id": "4420e475-789d-4e29-8682-aecdd1cca581",
   "metadata": {},
   "outputs": [
    {
     "data": {
      "text/plain": [
       "<matplotlib.legend.Legend at 0x25d024330a0>"
      ]
     },
     "execution_count": 32,
     "metadata": {},
     "output_type": "execute_result"
    },
    {
     "data": {
      "image/png": "[encoded data removed]",
      "text/plain": [
       "<Figure size 640x480 with 1 Axes>"
      ]
     },
     "metadata": {},
     "output_type": "display_data"
    }
   ],
   "source": [
    "plt.plot(nValuesNaive, tValuesNaive,color=\"red\", label=\"Hashing algorithm\")\n",
    "plt.xlabel(\"n\")\n",
    "plt.ylabel(\"Time(ms)\")\n",
    "plt.legend()"
   ]
  },
  {
   "cell_type": "code",
   "execution_count": 33,
   "id": "5efdac89-6a48-4b10-bff0-949aba62cbdc",
   "metadata": {},
   "outputs": [
    {
     "ename": "ModuleNotFoundError",
     "evalue": "No module named 'time_'",
     "output_type": "error",
     "traceback": [
      "\u001b[1;31m---------------------------------------------------------------------------\u001b[0m",
      "\u001b[1;31mModuleNotFoundError\u001b[0m                       Traceback (most recent call last)",
      "Cell \u001b[1;32mIn[33], line 1\u001b[0m\n\u001b[1;32m----> 1\u001b[0m \u001b[38;5;28;01mfrom\u001b[39;00m \u001b[38;5;21;01mtime_\u001b[39;00m \u001b[38;5;28;01mimport\u001b[39;00m tryItABunch3\n\u001b[0;32m      2\u001b[0m nValuesBetter2, tValuesBetter2 \u001b[38;5;241m=\u001b[39m tryItABunch3(numTrials\u001b[38;5;241m=\u001b[39m\u001b[38;5;241m5\u001b[39m)\n",
      "\u001b[1;31mModuleNotFoundError\u001b[0m: No module named 'time_'"
     ]
    }
   ],
   "source": [
    "from time_O(n) import time_O(n)\n",
    "nValuesBetter2, tValuesBetter2 = time_O(n)(numTrials=5)"
   ]
  },
  {
   "cell_type": "code",
   "execution_count": null,
   "id": "f88008bc-281c-437f-8202-f738ee894779",
   "metadata": {},
   "outputs": [],
   "source": []
  }
 ],
 "metadata": {
  "kernelspec": {
   "display_name": "Python 3 (ipykernel)",
   "language": "python",
   "name": "python3"
  },
  "language_info": {
   "codemirror_mode": {
    "name": "ipython",
    "version": 3
   },
   "file_extension": ".py",
   "mimetype": "text/x-python",
   "name": "python",
   "nbconvert_exporter": "python",
   "pygments_lexer": "ipython3",
   "version": "3.10.8"
  }
 },
 "nbformat": 4,
 "nbformat_minor": 5
}
